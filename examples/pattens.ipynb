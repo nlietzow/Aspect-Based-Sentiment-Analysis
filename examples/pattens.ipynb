{
 "cells": [
  {
   "cell_type": "code",
   "execution_count": 1,
   "outputs": [],
   "source": [
    "# IPython extension reloads modules automatically \n",
    "# before entering the execution of code. \n",
    "%load_ext autoreload\n",
    "%autoreload 2\n",
    "import numpy as np\n",
    "import aspect_based_sentiment_analysis as absa\n",
    "from IPython.core.display import display"
   ],
   "metadata": {
    "collapsed": false,
    "pycharm": {
     "name": "#%%\n",
     "is_executing": false
    }
   }
  },
  {
   "cell_type": "code",
   "execution_count": 3,
   "outputs": [],
   "source": [
    "nlp = absa.load('absa/classifier-rest-0.1')\n",
    "text = (\"We are great fans of Slack, but we wish the subscriptions \" \n",
    "        \"were more accessible to small startups.\")\n",
    "task = nlp(text, aspects=[\"slack\"])\n",
    "\n",
    "[example] = task.batch\n",
    "scores = np.round(example.scores, decimals=3)"
   ],
   "metadata": {
    "collapsed": false,
    "pycharm": {
     "name": "#%%\n",
     "is_executing": false
    }
   }
  },
  {
   "cell_type": "code",
   "source": [
    "print(f'Sentiment for \"slack\": {repr(example.sentiment)}')\n",
    "print(f'Scores (neutral/negative/positive): {scores}')"
   ],
   "metadata": {
    "collapsed": false,
    "pycharm": {
     "name": "#%%\n",
     "is_executing": false
    }
   },
   "execution_count": 4,
   "outputs": [
    {
     "name": "stdout",
     "text": [
      "Sentiment for \"slack\": <Sentiment.positive: 2>\nScores (neutral/negative/positive): [0.016 0.025 0.959]\n"
     ],
     "output_type": "stream"
    }
   ]
  },
  {
   "cell_type": "code",
   "execution_count": 30,
   "outputs": [
    {
     "data": {
      "text/plain": "<IPython.core.display.HTML object>",
      "text/html": "Words connected with the \"slack\" aspect: <br> <span style=\"background-color:rgba(135,206,250,0.04784017335623503);\">we</span> <span style=\"background-color:rgba(135,206,250,0.03905261866748333);\">are</span> <span style=\"background-color:rgba(135,206,250,0.2897864580154419);\">great</span> <span style=\"background-color:rgba(135,206,250,0.5323053151369095);\">fans</span> <span style=\"background-color:rgba(135,206,250,0.40963131934404373);\">of</span> <span style=\"background-color:rgba(135,206,250,1.25);\">slack</span> <span style=\"background-color:rgba(135,206,250,0.004062202060595155);\">,</span> <span style=\"background-color:rgba(135,206,250,0.001013082219287753);\">but</span> <span style=\"background-color:rgba(135,206,250,0.01051970524713397);\">we</span> <span style=\"background-color:rgba(135,206,250,0.0067223276710137725);\">wish</span> <span style=\"background-color:rgba(135,206,250,0.0775744765996933);\">the</span> <span style=\"background-color:rgba(135,206,250,0.07432115729898214);\">subscriptions</span> <span style=\"background-color:rgba(135,206,250,0.007500803912989795);\">were</span> <span style=\"background-color:rgba(135,206,250,0.05082834046334028);\">more</span> <span style=\"background-color:rgba(135,206,250,0.16146432608366013);\">accessible</span> <span style=\"background-color:rgba(135,206,250,0.012737562647089362);\">to</span> <span style=\"background-color:rgba(135,206,250,0.029244786128401756);\">small</span> <span style=\"background-color:rgba(135,206,250,0.006150870467536151);\">startups</span> <span style=\"background-color:rgba(135,206,250,1.2092407792806625);\">.</span> <br><br> The model uses these patterns to make a prediction: <br> <span style=\"background-color:rgba(117,255,104,1.25);\">impact 1.00</span> <span style=\"background-color:rgba(135,206,250,0.17361115664243698);\">we</span> <span style=\"background-color:rgba(135,206,250,0.07685690652579069);\">are</span> <span style=\"background-color:rgba(135,206,250,0.2984110824763775);\">great</span> <span style=\"background-color:rgba(135,206,250,1.0854455083608627);\">fans</span> <span style=\"background-color:rgba(135,206,250,0.11432763189077377);\">of</span> <span style=\"background-color:rgba(135,206,250,1.25);\">slack</span> <span style=\"background-color:rgba(135,206,250,0.02577804494649172);\">,</span> <span style=\"background-color:rgba(135,206,250,0.036515314131975174);\">but</span> <span style=\"background-color:rgba(135,206,250,0.010324502363801003);\">we</span> <span style=\"background-color:rgba(135,206,250,0.01204294734634459);\">wish</span> <span style=\"background-color:rgba(135,206,250,0.00807450502179563);\">the</span> <span style=\"background-color:rgba(135,206,250,0.01723920926451683);\">subscriptions</span> <span style=\"background-color:rgba(135,206,250,0.02093013608828187);\">were</span> <span style=\"background-color:rgba(135,206,250,0.015834838850423694);\">more</span> <span style=\"background-color:rgba(135,206,250,0.01188543508760631);\">accessible</span> <span style=\"background-color:rgba(135,206,250,0.013124331599101424);\">to</span> <span style=\"background-color:rgba(135,206,250,0.005612839013338089);\">small</span> <span style=\"background-color:rgba(135,206,250,0.010297993430867791);\">startups</span> <span style=\"background-color:rgba(135,206,250,0.0022596334747504443);\">.</span><br> <span style=\"background-color:rgba(117,255,104,0.958997905254364);\">impact 0.77</span> <span style=\"background-color:rgba(135,206,250,0.12027970515191555);\">we</span> <span style=\"background-color:rgba(135,206,250,0.07485310547053814);\">are</span> <span style=\"background-color:rgba(135,206,250,0.4699298366904259);\">great</span> <span style=\"background-color:rgba(135,206,250,0.3891299292445183);\">fans</span> <span style=\"background-color:rgba(135,206,250,0.25279464200139046);\">of</span> <span style=\"background-color:rgba(135,206,250,0.3651553764939308);\">slack</span> <span style=\"background-color:rgba(135,206,250,0.03517386969178915);\">,</span> <span style=\"background-color:rgba(135,206,250,0.058177835308015347);\">but</span> <span style=\"background-color:rgba(135,206,250,0.015619677724316716);\">we</span> <span style=\"background-color:rgba(135,206,250,0.019395293202251196);\">wish</span> <span style=\"background-color:rgba(135,206,250,0.0013659967225976288);\">the</span> <span style=\"background-color:rgba(135,206,250,0.04772335756570101);\">subscriptions</span> <span style=\"background-color:rgba(135,206,250,0.012931356905028224);\">were</span> <span style=\"background-color:rgba(135,206,250,0.04261287394911051);\">more</span> <span style=\"background-color:rgba(135,206,250,0.06067939102649689);\">accessible</span> <span style=\"background-color:rgba(135,206,250,0.01097370171919465);\">to</span> <span style=\"background-color:rgba(135,206,250,0.051301466301083565);\">small</span> <span style=\"background-color:rgba(135,206,250,0.03072184044867754);\">startups</span> <span style=\"background-color:rgba(135,206,250,0.008751869900152087);\">.</span><br> <span style=\"background-color:rgba(117,255,104,0.6463960558176041);\">impact 0.52</span> <span style=\"background-color:rgba(135,206,250,0.004435169976204634);\">we</span> <span style=\"background-color:rgba(135,206,250,0.020869148429483175);\">are</span> <span style=\"background-color:rgba(135,206,250,0.16296487301588058);\">great</span> <span style=\"background-color:rgba(135,206,250,0.3749808296561241);\">fans</span> <span style=\"background-color:rgba(135,206,250,0.24039460346102715);\">of</span> <span style=\"background-color:rgba(135,206,250,0.13080579228699207);\">slack</span> <span style=\"background-color:rgba(135,206,250,0.20081788301467896);\">,</span> <span style=\"background-color:rgba(135,206,250,0.06152770482003689);\">but</span> <span style=\"background-color:rgba(135,206,250,0.03330297768115997);\">we</span> <span style=\"background-color:rgba(135,206,250,0.0405984278768301);\">wish</span> <span style=\"background-color:rgba(135,206,250,0.14876176603138447);\">the</span> <span style=\"background-color:rgba(135,206,250,0.016378368018195033);\">subscriptions</span> <span style=\"background-color:rgba(135,206,250,0.04612673074007034);\">were</span> <span style=\"background-color:rgba(135,206,250,0.00043642608943628147);\">more</span> <span style=\"background-color:rgba(135,206,250,0.04922384396195412);\">accessible</span> <span style=\"background-color:rgba(135,206,250,0.037507282104343176);\">to</span> <span style=\"background-color:rgba(135,206,250,0.0004710693610832095);\">small</span> <span style=\"background-color:rgba(135,206,250,0.002770271385088563);\">startups</span> <span style=\"background-color:rgba(135,206,250,0.04362341947853565);\">.</span><br> <span style=\"background-color:rgba(250,102,109,0.49595940858125687);\">impact -0.40</span> <span style=\"background-color:rgba(135,206,250,0.016575566260144114);\">we</span> <span style=\"background-color:rgba(135,206,250,0.06506412755697966);\">are</span> <span style=\"background-color:rgba(135,206,250,0.04034350626170635);\">great</span> <span style=\"background-color:rgba(135,206,250,0.06597848143428564);\">fans</span> <span style=\"background-color:rgba(135,206,250,0.015648758271709085);\">of</span> <span style=\"background-color:rgba(135,206,250,0.05712158512324095);\">slack</span> <span style=\"background-color:rgba(135,206,250,0.028498447500169277);\">,</span> <span style=\"background-color:rgba(135,206,250,0.06335282232612371);\">but</span> <span style=\"background-color:rgba(135,206,250,0.025493360590189695);\">we</span> <span style=\"background-color:rgba(135,206,250,0.6073129549622536);\">wish</span> <span style=\"background-color:rgba(135,206,250,0.013511322904378176);\">the</span> <span style=\"background-color:rgba(135,206,250,0.009112395346164703);\">subscriptions</span> <span style=\"background-color:rgba(135,206,250,0.2738310769200325);\">were</span> <span style=\"background-color:rgba(135,206,250,0.32240256667137146);\">more</span> <span style=\"background-color:rgba(135,206,250,0.05194901954382658);\">accessible</span> <span style=\"background-color:rgba(135,206,250,0.006219266797415912);\">to</span> <span style=\"background-color:rgba(135,206,250,0.02228971105068922);\">small</span> <span style=\"background-color:rgba(135,206,250,0.022660621907562017);\">startups</span> <span style=\"background-color:rgba(135,206,250,0.08303575217723846);\">.</span><br> <span style=\"background-color:rgba(250,102,109,0.4880031943321228);\">impact -0.39</span> <span style=\"background-color:rgba(135,206,250,0.007024614023976028);\">we</span> <span style=\"background-color:rgba(135,206,250,0.003151952405460179);\">are</span> <span style=\"background-color:rgba(135,206,250,0.028035722207278013);\">great</span> <span style=\"background-color:rgba(135,206,250,0.06461723241955042);\">fans</span> <span style=\"background-color:rgba(135,206,250,0.0451558455824852);\">of</span> <span style=\"background-color:rgba(135,206,250,0.15272539108991623);\">slack</span> <span style=\"background-color:rgba(135,206,250,0.11138995178043842);\">,</span> <span style=\"background-color:rgba(135,206,250,0.2863170951604843);\">but</span> <span style=\"background-color:rgba(135,206,250,0.10883570648729801);\">we</span> <span style=\"background-color:rgba(135,206,250,0.5796682834625244);\">wish</span> <span style=\"background-color:rgba(135,206,250,0.127788744866848);\">the</span> <span style=\"background-color:rgba(135,206,250,0.02465699566528201);\">subscriptions</span> <span style=\"background-color:rgba(135,206,250,0.09499607607722282);\">were</span> <span style=\"background-color:rgba(135,206,250,0.2514888532459736);\">more</span> <span style=\"background-color:rgba(135,206,250,0.02677498385310173);\">accessible</span> <span style=\"background-color:rgba(135,206,250,0.0019473493739496917);\">to</span> <span style=\"background-color:rgba(135,206,250,0.05330453161150217);\">small</span> <span style=\"background-color:rgba(135,206,250,0.04009797237813473);\">startups</span> <span style=\"background-color:rgba(135,206,250,0.016401842003688216);\">.</span><br> <span style=\"background-color:rgba(117,255,104,0.46847179532051086);\">impact 0.37</span> <span style=\"background-color:rgba(135,206,250,0.00647102075163275);\">we</span> <span style=\"background-color:rgba(135,206,250,0.007491711876355112);\">are</span> <span style=\"background-color:rgba(135,206,250,0.04831965081393719);\">great</span> <span style=\"background-color:rgba(135,206,250,0.016677362145856023);\">fans</span> <span style=\"background-color:rgba(135,206,250,0.0035855366149917245);\">of</span> <span style=\"background-color:rgba(135,206,250,0.020015272311866283);\">slack</span> <span style=\"background-color:rgba(135,206,250,0.026882465463131666);\">,</span> <span style=\"background-color:rgba(135,206,250,0.06983674596995115);\">but</span> <span style=\"background-color:rgba(135,206,250,0.005908714956603944);\">we</span> <span style=\"background-color:rgba(135,206,250,0.031204249244183302);\">wish</span> <span style=\"background-color:rgba(135,206,250,0.02559507731348276);\">the</span> <span style=\"background-color:rgba(135,206,250,0.017006566049531102);\">subscriptions</span> <span style=\"background-color:rgba(135,206,250,0.004029320843983442);\">were</span> <span style=\"background-color:rgba(135,206,250,0.006334231002256274);\">more</span> <span style=\"background-color:rgba(135,206,250,0.010782380122691393);\">accessible</span> <span style=\"background-color:rgba(135,206,250,0.0007162884139688686);\">to</span> <span style=\"background-color:rgba(135,206,250,0.0018132248078472912);\">small</span> <span style=\"background-color:rgba(135,206,250,0.007643693825230002);\">startups</span> <span style=\"background-color:rgba(135,206,250,0.10741368867456913);\">.</span><br> <span style=\"background-color:rgba(250,102,109,0.348844937980175);\">impact -0.28</span> <span style=\"background-color:rgba(135,206,250,0.006937867728993297);\">we</span> <span style=\"background-color:rgba(135,206,250,0.011665780330076814);\">are</span> <span style=\"background-color:rgba(135,206,250,0.4164569079875946);\">great</span> <span style=\"background-color:rgba(135,206,250,0.2507026121020317);\">fans</span> <span style=\"background-color:rgba(135,206,250,0.01093192957341671);\">of</span> <span style=\"background-color:rgba(135,206,250,0.01904795877635479);\">slack</span> <span style=\"background-color:rgba(135,206,250,0.002560701686888933);\">,</span> <span style=\"background-color:rgba(135,206,250,0.1240468118339777);\">but</span> <span style=\"background-color:rgba(135,206,250,0.006555880536325276);\">we</span> <span style=\"background-color:rgba(135,206,250,0.3871070593595505);\">wish</span> <span style=\"background-color:rgba(135,206,250,0.04261133726686239);\">the</span> <span style=\"background-color:rgba(135,206,250,0.02754923887550831);\">subscriptions</span> <span style=\"background-color:rgba(135,206,250,0.03734902245923877);\">were</span> <span style=\"background-color:rgba(135,206,250,0.055508813820779324);\">more</span> <span style=\"background-color:rgba(135,206,250,0.1442007441073656);\">accessible</span> <span style=\"background-color:rgba(135,206,250,0.0806109793484211);\">to</span> <span style=\"background-color:rgba(135,206,250,0.008270255057141185);\">small</span> <span style=\"background-color:rgba(135,206,250,0.017373391892760992);\">startups</span> <span style=\"background-color:rgba(135,206,250,0.03499262034893036);\">.</span><br> <span style=\"background-color:rgba(117,255,104,0.27625130489468575);\">impact 0.22</span> <span style=\"background-color:rgba(135,206,250,0.0008050246105995029);\">we</span> <span style=\"background-color:rgba(135,206,250,0.00036283327062847093);\">are</span> <span style=\"background-color:rgba(135,206,250,0.021593295969069004);\">great</span> <span style=\"background-color:rgba(135,206,250,0.17778990790247917);\">fans</span> <span style=\"background-color:rgba(135,206,250,0.0017443238175474107);\">of</span> <span style=\"background-color:rgba(135,206,250,0.36514412611722946);\">slack</span> <span style=\"background-color:rgba(135,206,250,0.02183000324293971);\">,</span> <span style=\"background-color:rgba(135,206,250,0.007473991136066616);\">but</span> <span style=\"background-color:rgba(135,206,250,0.010298371780663729);\">we</span> <span style=\"background-color:rgba(135,206,250,0.003703616966959089);\">wish</span> <span style=\"background-color:rgba(135,206,250,0.036765593104064465);\">the</span> <span style=\"background-color:rgba(135,206,250,0.016188762383535504);\">subscriptions</span> <span style=\"background-color:rgba(135,206,250,4.296501629141858e-05);\">were</span> <span style=\"background-color:rgba(135,206,250,0.0010423960338812321);\">more</span> <span style=\"background-color:rgba(135,206,250,0.004856817540712655);\">accessible</span> <span style=\"background-color:rgba(135,206,250,0.0016199485980905592);\">to</span> <span style=\"background-color:rgba(135,206,250,0.001896581961773336);\">small</span> <span style=\"background-color:rgba(135,206,250,0.004381061298772693);\">startups</span> <span style=\"background-color:rgba(135,206,250,0.013483039801940322);\">.</span><br>"
     },
     "metadata": {},
     "output_type": "display_data"
    }
   ],
   "source": [
    "html = absa.probing.explain(example)\n",
    "display(html)"
   ],
   "metadata": {
    "collapsed": false,
    "pycharm": {
     "name": "#%%\n",
     "is_executing": false
    }
   }
  }
 ],
 "metadata": {
  "kernelspec": {
   "display_name": "Python 3",
   "language": "python",
   "name": "python3"
  },
  "language_info": {
   "codemirror_mode": {
    "name": "ipython",
    "version": 2
   },
   "file_extension": ".py",
   "mimetype": "text/x-python",
   "name": "python",
   "nbconvert_exporter": "python",
   "pygments_lexer": "ipython2",
   "version": "2.7.6"
  },
  "pycharm": {
   "stem_cell": {
    "cell_type": "raw",
    "source": [],
    "metadata": {
     "collapsed": false
    }
   }
  }
 },
 "nbformat": 4,
 "nbformat_minor": 0
}
